{
 "cells": [
  {
   "cell_type": "code",
   "execution_count": 2,
   "metadata": {},
   "outputs": [],
   "source": [
    "import tensorflow as tf\n",
    "import numpy as np\n",
    "import matplotlib.pyplot as plt\n",
    "from collections import Counter\n",
    "from tensorflow.contrib.tensorboard.plugins import projector\n",
    "import os"
   ]
  },
  {
   "cell_type": "code",
   "execution_count": 5,
   "metadata": {},
   "outputs": [],
   "source": [
    "os.environ['TF_CPP_MIN_LOG_LEVEL'] = '2'"
   ]
  },
  {
   "cell_type": "code",
   "execution_count": 6,
   "metadata": {},
   "outputs": [],
   "source": [
    "LOG_DIR = 'processed'\n",
    "VOCAB_FILE = 'vocab.tsv'\n",
    "MODEL_NAME = 'model.ckpt'"
   ]
  },
  {
   "cell_type": "code",
   "execution_count": 8,
   "metadata": {},
   "outputs": [],
   "source": [
    "def read_data(file_path):\n",
    "    print('Reading data...')\n",
    "    with open(file_path, 'r') as f:\n",
    "        words = f.readline().split()\n",
    "    return words"
   ]
  },
  {
   "cell_type": "code",
   "execution_count": 10,
   "metadata": {},
   "outputs": [],
   "source": [
    "def build_vocab(words, vocab_size):\n",
    "    print ('Building vocabulary...')\n",
    "    vocab = ['UNK']\n",
    "    vocab.extend([word for word, _ in Counter(words).most_common(vocab_size - 1)])\n",
    "    if not os.path.exists(LOG_DIR):\n",
    "        os.makedirs(LOG_DIR)\n",
    "    with open(os.path.join(LOG_DIR, VOCAB_FILE), 'w') as f:\n",
    "        f.write('\\n'.join(vocab))\n",
    "    return {word: i for i, word in enumerate(vocab)}"
   ]
  },
  {
   "cell_type": "code",
   "execution_count": 11,
   "metadata": {},
   "outputs": [],
   "source": [
    "def words_to_indicies(words, index):\n",
    "    print( 'Converting words to indicies...')\n",
    "    return [index[w] if w in index else 0 for w in words]"
   ]
  },
  {
   "cell_type": "code",
   "execution_count": 16,
   "metadata": {},
   "outputs": [],
   "source": [
    "def get_pairs(words, window_size):\n",
    "    print ('Getting word pairs...')\n",
    "    for i, center in enumerate(words):\n",
    "        targets = words[max(0, i - window_size): i]\n",
    "        targets.extend(words[i + 1: i + window_size + 1])\n",
    "        for t in targets:\n",
    "            yield center, t"
   ]
  },
  {
   "cell_type": "code",
   "execution_count": 17,
   "metadata": {},
   "outputs": [],
   "source": [
    "file_path = 'text8'\n",
    "vocab_size = 10000\n",
    "window_size = 5\n",
    "embed_size = 300"
   ]
  },
  {
   "cell_type": "code",
   "execution_count": 18,
   "metadata": {},
   "outputs": [
    {
     "name": "stdout",
     "output_type": "stream",
     "text": [
      "Reading data...\n",
      "Building vocabulary...\n",
      "Converting words to indicies...\n"
     ]
    }
   ],
   "source": [
    "words = read_data(file_path)\n",
    "index = build_vocab(words, vocab_size)\n",
    "index_words = words_to_indicies(words, index)"
   ]
  },
  {
   "cell_type": "code",
   "execution_count": 19,
   "metadata": {},
   "outputs": [
    {
     "name": "stdout",
     "output_type": "stream",
     "text": [
      "Building co-occurence matrix...\n",
      "Getting word pairs...\n"
     ]
    }
   ],
   "source": [
    "print ('Building co-occurence matrix...')\n",
    "occurence = np.zeros([vocab_size, vocab_size])\n",
    "for center, target in get_pairs(index_words, window_size):\n",
    "    occurence[center][target] += 1"
   ]
  },
  {
   "cell_type": "code",
   "execution_count": null,
   "metadata": {},
   "outputs": [
    {
     "name": "stdout",
     "output_type": "stream",
     "text": [
      "Building and running graph...\n",
      "WARNING:tensorflow:From <ipython-input-20-4e16bdb74517>:2: calling reduce_mean (from tensorflow.python.ops.math_ops) with keep_dims is deprecated and will be removed in a future version.\n",
      "Instructions for updating:\n",
      "keep_dims is deprecated, use keepdims instead\n"
     ]
    }
   ],
   "source": [
    "print( 'Building and running graph...')\n",
    "mean_occurence = tf.reduce_mean(occurence, axis=1, keep_dims=True)\n",
    "mean_centered_occurence = tf.subtract(occurence, mean_occurence)\n",
    "svd = tf.svd(mean_centered_occurence)\n",
    "with tf.Session() as sess:\n",
    "    sess.run(tf.global_variables_initializer())\n",
    "    s, u, _ = sess.run(svd)\n",
    "\n",
    "    embedding_var = tf.Variable(np.dot(u, np.diag(s)[:, :embed_size]), name='embedding')\n",
    "    sess.run(embedding_var.initializer)\n",
    "\n",
    "    config = projector.ProjectorConfig()\n",
    "    summary_writer = tf.summary.FileWriter(LOG_DIR)\n",
    "\n",
    "    embedding = config.embeddings.add()\n",
    "    embedding.tensor_name = embedding_var.name\n",
    "    embedding.metadata_path = VOCAB_FILE\n",
    "                    \n",
    "    projector.visualize_embeddings(summary_writer, config)\n",
    "    saver_embed = tf.train.Saver([embedding_var])\n",
    "    saver_embed.save(sess, os.path.join(LOG_DIR, MODEL_NAME))"
   ]
  },
  {
   "cell_type": "code",
   "execution_count": null,
   "metadata": {},
   "outputs": [],
   "source": []
  },
  {
   "cell_type": "code",
   "execution_count": null,
   "metadata": {},
   "outputs": [],
   "source": []
  },
  {
   "cell_type": "code",
   "execution_count": null,
   "metadata": {},
   "outputs": [],
   "source": []
  },
  {
   "cell_type": "code",
   "execution_count": null,
   "metadata": {},
   "outputs": [],
   "source": []
  }
 ],
 "metadata": {
  "kernelspec": {
   "display_name": "Python 3",
   "language": "python",
   "name": "python3"
  },
  "language_info": {
   "codemirror_mode": {
    "name": "ipython",
    "version": 3
   },
   "file_extension": ".py",
   "mimetype": "text/x-python",
   "name": "python",
   "nbconvert_exporter": "python",
   "pygments_lexer": "ipython3",
   "version": "3.6.4"
  }
 },
 "nbformat": 4,
 "nbformat_minor": 2
}
